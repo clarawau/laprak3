{
 "cells": [
  {
   "cell_type": "code",
   "execution_count": 1,
   "id": "0def98f9",
   "metadata": {},
   "outputs": [
    {
     "name": "stdout",
     "output_type": "stream",
     "text": [
      "masukan suhu tubuh anda : delapan derajat \n",
      "anda salah memasukan input suhu tubuh \n"
     ]
    }
   ],
   "source": [
    "try :\n",
    "    suhu_tubuh = int(input(\"masukan suhu tubuh anda : \"))\n",
    "    suhu_anda = \" anda demam \" if suhu_tubuh >= 38  else \" anda tidak demam \"\n",
    "    print (\" suhu tubuh anda : \", suhu_anda)\n",
    "except:\n",
    "    print (\"anda salah memasukan input suhu tubuh \")"
   ]
  },
  {
   "cell_type": "code",
   "execution_count": 2,
   "id": "8d0bacce",
   "metadata": {},
   "outputs": [
    {
     "name": "stdout",
     "output_type": "stream",
     "text": [
      "masukan suatu bilangan : positif\n",
      "anda salah memasukan inputan bilangan\n"
     ]
    }
   ],
   "source": [
    "try : \n",
    "    bilangan = int(input(\"masukan suatu bilangan : \"))\n",
    "    inputan_bilangan = (\"positif\" if bilangan > 0 else\n",
    "                        \"negatif\" if bilangan < 0 else\n",
    "                        \"NOL\")\n",
    "    print(\"inputan bilangan anda\", inputan_bilangan)\n",
    "except: \n",
    "    print(\"anda salah memasukan inputan bilangan\")"
   ]
  },
  {
   "cell_type": "code",
   "execution_count": 3,
   "id": "d263712f",
   "metadata": {},
   "outputs": [
    {
     "name": "stdout",
     "output_type": "stream",
     "text": [
      "masukan bilangan pertama :  12\n",
      "masukan bilangan kedua : 13\n",
      "masukan bilangan ketiga : empat belas\n",
      "anda salah menginput bilangan \n"
     ]
    }
   ],
   "source": [
    "try :\n",
    "  a = int(input(\"masukan bilangan pertama :  \"))\n",
    "  b = int(input(\"masukan bilangan kedua : \"))\n",
    "  c = int(input(\"masukan bilangan ketiga : \"))\n",
    "  kriteria = ((\"terbesar : \", a) if a > b and a > c else\n",
    "              (\"terbesar : \", b) if b > a and b > c else\n",
    "               (\"terbesar : \", c) if c > a and c > b else())\n",
    "  print (*kriteria )\n",
    "except :\n",
    "  print (\"anda salah menginput bilangan \")"
   ]
  },
  {
   "cell_type": "code",
   "execution_count": 9,
   "id": "630f171b",
   "metadata": {},
   "outputs": [
    {
     "name": "stdout",
     "output_type": "stream",
     "text": [
      "masukan suatu bilangan : 12\n",
      "inputan bilangan anda positif\n"
     ]
    }
   ],
   "source": [
    "bilangan = int(input(\"masukan suatu bilangan : \"))\n",
    "inputan_bilangan = (\"positif\" if bilangan > 0 else\n",
    "                        \"negatif\" if bilangan < 0 else\n",
    "                        \"NOL\")\n",
    "print(\"inputan bilangan anda\", inputan_bilangan)"
   ]
  },
  {
   "cell_type": "code",
   "execution_count": 6,
   "id": "e3af8f35",
   "metadata": {},
   "outputs": [
    {
     "name": "stdout",
     "output_type": "stream",
     "text": [
      "masukan bulan (1 - 12 ) = 8\n",
      "jumlah hari =  31\n"
     ]
    }
   ],
   "source": [
    "try : \n",
    "  hari_dalam_satu_bulan = {1: 31,2: 29,3: 31,4: 30,5: 31,6: 30,7: 31,8: 31,9: 30,10: 31,11: 30,12: 31}\n",
    "  bulan =int(input(\"masukan bulan (1 - 12 ) = \"))\n",
    "  kesalah =\"bulan yang di input salah \" if bulan < 1 or bulan > 12 else \"bukan termasuk\"\n",
    "  print (\"jumlah hari = \", hari_dalam_satu_bulan[bulan])\n",
    "except :\n",
    "  print(\"error inputan\")"
   ]
  },
  {
   "cell_type": "code",
   "execution_count": 7,
   "id": "9c5aebff",
   "metadata": {},
   "outputs": [
    {
     "name": "stdout",
     "output_type": "stream",
     "text": [
      "masukan sisi pertama (dalam angka) : 12\n",
      "masukan sisi kedua (dalam angka) : 08\n",
      "masukan sisi ketiga (dalam angka) : 12\n",
      "2 sisi sama\n"
     ]
    }
   ],
   "source": [
    "try :\n",
    "  sisi_1 = int(input(\"masukan sisi pertama (dalam angka) : \"))\n",
    "  sisi_2 = int(input(\"masukan sisi kedua (dalam angka) : \"))\n",
    "  sisi_3 = int(input(\"masukan sisi ketiga (dalam angka) : \"))\n",
    "  a = sisi_1\n",
    "  b = sisi_2\n",
    "  c = sisi_3\n",
    "  if a == b == c  :\n",
    "    print(\"3 sisi sama \")\n",
    "  elif a == b != c or b == c != a or a == c != b:\n",
    "    print(\"2 sisi sama\")\n",
    "  elif a != b != c :\n",
    "    print(\"tidak ada yang sama\")\n",
    "except :\n",
    "  print(\"inputan yang anda berikan tidak valid\")"
   ]
  },
  {
   "cell_type": "code",
   "execution_count": null,
   "id": "598c6653",
   "metadata": {},
   "outputs": [],
   "source": []
  }
 ],
 "metadata": {
  "kernelspec": {
   "display_name": "Python 3 (ipykernel)",
   "language": "python",
   "name": "python3"
  },
  "language_info": {
   "codemirror_mode": {
    "name": "ipython",
    "version": 3
   },
   "file_extension": ".py",
   "mimetype": "text/x-python",
   "name": "python",
   "nbconvert_exporter": "python",
   "pygments_lexer": "ipython3",
   "version": "3.11.5"
  }
 },
 "nbformat": 4,
 "nbformat_minor": 5
}
